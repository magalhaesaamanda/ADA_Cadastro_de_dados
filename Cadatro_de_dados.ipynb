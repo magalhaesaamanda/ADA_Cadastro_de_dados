{
  "nbformat": 4,
  "nbformat_minor": 0,
  "metadata": {
    "colab": {
      "provenance": []
    },
    "kernelspec": {
      "name": "python3",
      "display_name": "Python 3"
    },
    "language_info": {
      "name": "python"
    }
  },
  "cells": [
    {
      "cell_type": "markdown",
      "source": [
        "# Cadastro de Dados \n",
        "\n",
        "- Objetivos:\n",
        "  - Construir um sistema de cadastro com um menu principal que possibilite realizar 6 operações: incluir usuário, excluir usuário, atualizar usuário, exibir informações de um usuário, exibir informações de todos os usuários e sair.\n",
        "\n",
        "Senha administrador : adm18349276"
      ],
      "metadata": {
        "id": "OiSlVHlQTyPy"
      }
    },
    {
      "cell_type": "markdown",
      "source": [
        "## Base de dados em lista"
      ],
      "metadata": {
        "id": "-YqCfrGGUi7Q"
      }
    },
    {
      "cell_type": "code",
      "execution_count": null,
      "metadata": {
        "id": "eSMGp7tBTuuI"
      },
      "outputs": [],
      "source": [
        "# Lista com todos os usuários e suas informações\n",
        "\n",
        "users = [\n",
        "    [1, 'João Antonio Martins', 9892345678, 'Rua Boa', True],\n",
        "    [2, 'Eduardo Oliveira da Silva', 1178358235, 'Rua Top', True],\n",
        "    [3, 'Gabriela Alves', 3853385267, 'Maiobão', False],\n",
        "    [4, 'Leticia Muniz', 6599923154, 'Rua Joaquim 119', True],\n",
        "    [5, 'André Ferreira Neto', 4415323154, 'Avenida Brasil', True]\n",
        "]\n",
        "\n",
        "# Sequencia das informações dos usuários para impressão\n",
        "\n",
        "info_imprimir_user = [' ID: ', ' Nome: ', ' Telefone: ', ' Endereço: ']\n",
        "info_imprimir_adm = [' ID: ', ' Nome: ', ' Telefone: ', ' Endereço: ', ' Status: ']"
      ]
    },
    {
      "cell_type": "markdown",
      "source": [
        "## Menus"
      ],
      "metadata": {
        "id": "xiaC5zWwq6Zc"
      }
    },
    {
      "cell_type": "markdown",
      "source": [
        "### Menu de escolha do usuário"
      ],
      "metadata": {
        "id": "LZ1mUReUOfdr"
      }
    },
    {
      "cell_type": "code",
      "source": [
        "menu_user = '''\\n --------------------------------------\n",
        "  Seja bem vindo ao nosso sistema:\n",
        "\n",
        "  1 - Usuário\n",
        "  2 - Administrador \\n'''"
      ],
      "metadata": {
        "id": "01Aklnp7OkCn"
      },
      "execution_count": null,
      "outputs": []
    },
    {
      "cell_type": "markdown",
      "source": [
        "### Menu de validação da senha do administrador"
      ],
      "metadata": {
        "id": "GzAen1R4Olk3"
      }
    },
    {
      "cell_type": "code",
      "source": [
        "menu_administrador = '''\\n --------------------------------------\n",
        "  Informe os dados\n",
        "\n",
        "  Administrador \\n'''"
      ],
      "metadata": {
        "id": "D6a9WWxqOpBx"
      },
      "execution_count": null,
      "outputs": []
    },
    {
      "cell_type": "markdown",
      "source": [
        "### Menu principal do administrador"
      ],
      "metadata": {
        "id": "Yt-DK3V2OsxF"
      }
    },
    {
      "cell_type": "code",
      "source": [
        "menu_principal_administrador= '''\\n --------------------------------------\n",
        "  Qual operação deseja realizar:\n",
        "\n",
        "  1 - Inserir usuário\n",
        "  2 - Excluir usuário\n",
        "  3 - Atualizar usuário\n",
        "  4 - Informações de um usuário\n",
        "  5 - Informações de todos os usuários\n",
        "  6 - Sair\n",
        "  -------------------------------------\\n'''"
      ],
      "metadata": {
        "id": "_rIkqEZnOt8h"
      },
      "execution_count": null,
      "outputs": []
    },
    {
      "cell_type": "markdown",
      "source": [
        "### Menu principal do usuário"
      ],
      "metadata": {
        "id": "p9qiLiuzOwdk"
      }
    },
    {
      "cell_type": "code",
      "source": [
        "menu_principal_usuario= '''\\n --------------------------------------\n",
        "  Qual operação deseja realizar:\n",
        "\n",
        "  1 - Inserir usuário\n",
        "  2 - Atualizar usuário\n",
        "  3 - Informações de um usuário\n",
        "  4 - Sair\n",
        "  -------------------------------------\\n'''"
      ],
      "metadata": {
        "id": "bpC_jrA5OzNB"
      },
      "execution_count": null,
      "outputs": []
    },
    {
      "cell_type": "markdown",
      "source": [
        "### Menu de atualização de informações\n"
      ],
      "metadata": {
        "id": "d-BhLhmaO7Hz"
      }
    },
    {
      "cell_type": "code",
      "source": [
        "menu_atualizacao = '''\n",
        "  Qual informação deseja alterar?\n",
        "  1 - Nome\n",
        "  2 - Telefone\n",
        "  3 - Endereço'''"
      ],
      "metadata": {
        "id": "mLAV17B3O1v7"
      },
      "execution_count": null,
      "outputs": []
    },
    {
      "cell_type": "markdown",
      "source": [
        "## Código de segurança do programa"
      ],
      "metadata": {
        "id": "VvRuJJttPHUN"
      }
    },
    {
      "cell_type": "code",
      "source": [
        "# Segurança - quantidade de entrada de informações por parte do usuário\n",
        "\n",
        "def seguranca():\n",
        "  if count > 50:\n",
        "    raise Exception(' Por motivos de segurança, pedimos que reinicie o sistema')"
      ],
      "metadata": {
        "id": "VnjpHmxvfc9p"
      },
      "execution_count": null,
      "outputs": []
    },
    {
      "cell_type": "markdown",
      "source": [
        "## Função de validação"
      ],
      "metadata": {
        "id": "VTxDHYXHPNum"
      }
    },
    {
      "cell_type": "code",
      "source": [
        "# Validação de entrada de informações\n",
        "\n",
        "def entrada(variavel, entrada, contador, verificacao, validacao): \n",
        "  while True:\n",
        "    try:\n",
        "      contador += 1\n",
        "      seguranca()\n",
        "      variavel = int(input(entrada))\n",
        "      if verificacao == True:\n",
        "        validacao.index(variavel)\n",
        "\n",
        "    except ValueError:\n",
        "      print(' Valor inválido.\\n') \n",
        "    else:\n",
        "      return contador, variavel"
      ],
      "metadata": {
        "id": "DmV5zccbUeoi"
      },
      "execution_count": null,
      "outputs": []
    },
    {
      "cell_type": "markdown",
      "source": [
        "## Programa"
      ],
      "metadata": {
        "id": "bdu2CBqop5Ol"
      }
    },
    {
      "cell_type": "code",
      "source": [
        "# Iniciadores ou contadores\n",
        "\n",
        "op = 0\n",
        "count = 0\n",
        "user = 0\n",
        "senha = 0\n",
        "\n",
        "# Opções de usuários\n",
        "\n",
        "while user < 1 or user > 2:\n",
        "  print(menu_user)\n",
        "  count, user = entrada(user, ' ', count, True, [1, 2])\n",
        "\n",
        "else:\n",
        "\n",
        "    # Administrador - Senha\n",
        "\n",
        "    if user == 2:\n",
        "      print(menu_administrador)\n",
        "\n",
        "      while senha != '1':\n",
        "        senha = input('\\n   Senha: ')\n",
        "\n",
        "      else:\n",
        "\n",
        "        # Validadação da operação selecionada\n",
        "\n",
        "        while op != 6:\n",
        "          print(menu_principal_administrador)\n",
        "          \n",
        "          count, op = entrada(op, ' Digite a operação: ', count, True, range(1, 7))\n",
        "\n",
        "          if op == 6: ## mensagem de encerramento do programa\n",
        "            print('\\n O programa foi encerrado.')\n",
        "\n",
        "          else: ## operação validada\n",
        "\n",
        "            # Inserir usuário \n",
        "\n",
        "            if op == 1:\n",
        "              print('\\n ----- Inserir Usuário ----- \\n')\n",
        "\n",
        "              #Criando lista com as informações para inserir no banco de dados\n",
        "\n",
        "              info = [users[-1][0] + 1, ## ID\n",
        "                      input(' Nome: ').title(), ## Nome\n",
        "                      input(' Telefone: '), ## Telefone\n",
        "                      input(' Endereço:').title(), ## Endereço\n",
        "                      True] ## Status\n",
        "              \n",
        "              try:\n",
        "                info[2] =  int(info[2])             \n",
        "              except:\n",
        "                count, info[2] = entrada(info[2], ' Digite o telefone: ', count, False, False)\n",
        "\n",
        "              users.append(info)\n",
        "\n",
        "            # Excluir usuário \n",
        "\n",
        "            elif op == 2:\n",
        "              print('\\n ----- Excluir Usuário ----- \\n')\n",
        "              print(' obs: caso queira voltar ao menu principal, tecle 0.\\n')\n",
        "              user_2 = -1\n",
        "\n",
        "              # Validação do usuário\n",
        "\n",
        "              while user_2 > len(users) or user_2 < 0:\n",
        "                count, user_2 = entrada(user_2, '\\n Insira o ID do usuário: ', count, True, range(users[-1][0]))\n",
        "\n",
        "              else: ## usuário validado\n",
        "                if user_2 == 0: ## voltando ao menu principal\n",
        "                  pass\n",
        "\n",
        "                else:\n",
        "                  users[user_2 - 1][4] = False ## exclusão\n",
        "                  print(f' Usuário com ID {user_2} excluído.')\n",
        "\n",
        "            # Atualizar Usuário \n",
        "\n",
        "            elif op == 3:\n",
        "                print('\\n ----- Atualizar Usuário ----- \\n')\n",
        "                print(' obs: caso queira voltar ao menu principal, tecle 0.\\n ')\n",
        "                user_3 = -1\n",
        "                \n",
        "                # Validação do usuário\n",
        "\n",
        "                while user_3 > len(users) or user_3 < 0:\n",
        "                  count, user_3 = entrada(user_3, '\\n Insira o ID do usuário: ', count, True, range(users[-1][0]))\n",
        "\n",
        "                else: ## usuário validado\n",
        "                  if user_3 == 0: ## voltando ao menu principal\n",
        "                    pass\n",
        "\n",
        "                  else: ## atualizando usuáriio\n",
        "                    print('\\n --- Usuário --- \\n')\n",
        "\n",
        "                    for idx, informacao in enumerate(info_imprimir_adm): # informações do usuário\n",
        "                      print(informacao, users[user_3 - 1][idx])\n",
        "                    print('\\n')\n",
        "\n",
        "                    users[user_3 - 1][1] = input(info_imprimir_adm[1]).title() ## alteração do nome\n",
        "                    users[user_3 - 1][2] = input(info_imprimir_adm[2]) ## alteração do telefone\n",
        "                    users[user_3 - 1][3] = input(info_imprimir_adm[3]).title() ## alteração do endereço\n",
        "                    users[user_3 - 1][4] = bool(input(info_imprimir_adm[4])) ## alteração do status\n",
        "\n",
        "                    try:\n",
        "                      users[user_3 - 1][2] = int(users[user_3 - 1][2])\n",
        "                    except:\n",
        "                      count, users[user_3 - 1][2] = entrada(users[user_3 - 1][2], ' Digite o telefone: ', count, False, False)\n",
        "\n",
        "            # Informações do usuário \n",
        "\n",
        "            elif op == 4:\n",
        "              print('\\n----- Informações do usuário ----- \\n')\n",
        "              print(' obs: caso queira voltar ao menu principal, tecle 0.\\n ')\n",
        "              user_4 = -1\n",
        "\n",
        "              # Validação do usuário\n",
        "\n",
        "              while user_4 > len(users) or user_4 <0: \n",
        "                count, user_4 = entrada(user_4, '\\n Insira o ID do usuário: ', count, True, range(users[-1][0]))\n",
        "\n",
        "              else: ## usuário validado\n",
        "                if user_4 == 0: # voltando ao menu principal\n",
        "                  pass\n",
        "\n",
        "                else: # imprimindo informações do usuário\n",
        "                  print(40*'-')\n",
        "\n",
        "                  for idx, informacao in enumerate(info_imprimir_adm):\n",
        "                    print(informacao, users[user_4 - 1][idx])\n",
        "\n",
        "                  print(40*'-')\n",
        "\n",
        "            # Informações de todos os usuários \n",
        "\n",
        "            else:\n",
        "              print('\\n--- Informações de todos os usuários --- \\n') \n",
        "\n",
        "              for user in users: # imprimindo informações de todos os usuários\n",
        "                for idx, informacao in enumerate(info_imprimir_adm):\n",
        "                  print(informacao, user[idx])\n",
        "                print(40*'-')\n",
        "\n",
        "    else:\n",
        "\n",
        "      # Usuário Comum\n",
        "\n",
        "      while op != 4:\n",
        "        print(menu_principal_usuario)\n",
        "\n",
        "        count, op = entrada(op, ' Digite a operação: ', count, True, range(1, 5))\n",
        "\n",
        "        if op == 4:\n",
        "          print('\\n O programa foi encerrado.')\n",
        "\n",
        "        else:\n",
        "\n",
        "      # Inserir usuário \n",
        "\n",
        "          if op == 1:\n",
        "            print('\\n ----- Inserir Usuário ----- \\n')\n",
        "\n",
        "            info = [users[-1][0] + 1, # ID\n",
        "                    input(' Nome: ').title(), # Nome\n",
        "                    input(' Telefone: '), # Telefone\n",
        "                    input(' Endereço:').title(), # Endereço\n",
        "                    True] # Status\n",
        "            \n",
        "            try:\n",
        "              info[2] =  int(info[2])             \n",
        "            except:\n",
        "              count, info[2] = entrada(info[2], ' Digite o telefone: ', count, False, False)\n",
        "\n",
        "            users.append(info)\n",
        "\n",
        "      # Atualizar Usuário \n",
        "\n",
        "          elif op == 2:\n",
        "              print('\\n ----- Atualizar Usuário ----- \\n')\n",
        "              print(' obs: caso queira voltar ao menu principal, tecle 0.\\n')\n",
        "              user_2 = -1\n",
        "\n",
        "              while user_2 > len(users) or user_2 < 0 or users[user_2 - 1][4] == False:\n",
        "                count, user_2 = entrada(user_2, '\\n Insira o ID do usuário: ', count, True, [user[0] for user in users if user[-1] == True] + [0])\n",
        "\n",
        "              else:\n",
        "                if user_2 == 0:\n",
        "                  pass\n",
        "\n",
        "                else:\n",
        "                  print('\\n --- Usuário --- \\n')\n",
        "                  for idx, informacao in enumerate(info_imprimir_user):\n",
        "                    print(informacao, users[user_2 - 1][idx])\n",
        "                  print('\\n')\n",
        "                  op_atualiza = -1\n",
        "\n",
        "                  print(menu_atualizacao)\n",
        "\n",
        "                  while op_atualiza < 1 or op_atualiza > 3:\n",
        "                    count, user_2 = entrada(user_2, '\\n Insira o ID do usuário: ', count, True, range(1,))\n",
        "\n",
        "                  else:\n",
        "                    if op_atualiza != 2:\n",
        "                      users[user_2 - 1][op_atualiza] = input(info_imprimir_user[op_atualiza]).title()\n",
        "                    else:\n",
        "                      users[user_2 - 1][op_atualiza] = int(input(info_imprimir_user[op_atualiza]))\n",
        "\n",
        "      # Informações do usuário \n",
        "\n",
        "          else:\n",
        "            print('\\n----- Informações do usuário ----- \\n')\n",
        "            print(' obs: caso queira voltar ao menu principal, tecle 0.\\n')\n",
        "\n",
        "            user_3 = int(input(' Insira o ID do usuário: '))\n",
        "\n",
        "            while user_3 > len(users) or user_3 < 0 or users[user_3 - 1][4] == False:\n",
        "              count += 1\n",
        "              print(' Usuário não encontrado!')\n",
        "              user_3 = int(input('\\n Insira o ID do usuário: '))\n",
        "\n",
        "              seguranca()\n",
        "\n",
        "            else:\n",
        "              if user_3 == 0:\n",
        "                pass\n",
        "              \n",
        "              else:\n",
        "                print(40*'-')\n",
        "\n",
        "                for idx, informacao in enumerate(info_imprimir_user):\n",
        "                  print(informacao, users[user_3 - 1][idx])\n",
        "\n",
        "                print(40*'-')\n",
        "\n"
      ],
      "metadata": {
        "colab": {
          "base_uri": "https://localhost:8080/"
        },
        "id": "SAdwUmU8VaGw",
        "outputId": "6414f523-403d-4f11-85bc-591d998803f6"
      },
      "execution_count": null,
      "outputs": [
        {
          "output_type": "stream",
          "name": "stdout",
          "text": [
            "\n",
            " --------------------------------------\n",
            "  Seja bem vindo ao nosso sistema:\n",
            "\n",
            "  1 - Usuário\n",
            "  2 - Administrador \n",
            "\n",
            " 1\n",
            "\n",
            " --------------------------------------\n",
            "  Qual operação deseja realizar:\n",
            "\n",
            "  1 - Inserir usuário\n",
            "  2 - Atualizar usuário\n",
            "  3 - Informações de um usuário\n",
            "  4 - Sair\n",
            "  -------------------------------------\n",
            "\n",
            " Digite a operação: 2\n",
            "\n",
            " ----- Atualizar Usuário ----- \n",
            "\n",
            " obs: caso queira voltar ao menu principal, tecle 0.\n",
            "\n",
            "\n",
            " Insira o ID do usuário: 3\n",
            " Valor inválido.\n",
            "\n",
            "\n",
            " Insira o ID do usuário: 1\n",
            "\n",
            " --- Usuário --- \n",
            "\n",
            " ID:  1\n",
            " Nome:  João Antonio Martins\n",
            " Telefone:  9892345678\n",
            " Endereço:  Rua Boa\n",
            "\n",
            "\n",
            "\n",
            "  Qual informação deseja alterar?\n",
            "  1 - Nome\n",
            "  2 - Telefone\n",
            "  3 - Endereço\n",
            "\n",
            " Digite a operação: 2\n",
            " Telefone: 115615654\n",
            "\n",
            " --------------------------------------\n",
            "  Qual operação deseja realizar:\n",
            "\n",
            "  1 - Inserir usuário\n",
            "  2 - Atualizar usuário\n",
            "  3 - Informações de um usuário\n",
            "  4 - Sair\n",
            "  -------------------------------------\n",
            "\n",
            " Digite a operação: 4\n",
            "\n",
            " O programa foi encerrado.\n"
          ]
        }
      ]
    }
  ]
}